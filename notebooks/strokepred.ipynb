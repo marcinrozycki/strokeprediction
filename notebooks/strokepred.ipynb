{
 "cells": [
  {
   "cell_type": "code",
   "execution_count": 1,
   "id": "49755b93-cd09-4ac7-ba43-57bd162b077a",
   "metadata": {},
   "outputs": [],
   "source": [
    "import numpy as np\n",
    "import pandas as pd \n",
    "from imblearn.over_sampling import RandomOverSampler\n",
    "from sklearn import model_selection as ms\n",
    "from sklearn import linear_model\n",
    "from sklearn.metrics import mean_squared_error, accuracy_score, f1_score, roc_auc_score\n",
    "from sklearn.preprocessing import OneHotEncoder"
   ]
  },
  {
   "cell_type": "code",
   "execution_count": 2,
   "id": "40cf0200-2c65-428e-957d-3ce7d205b7ed",
   "metadata": {},
   "outputs": [],
   "source": [
    "## load dataset\n",
    "input_dataset = \"../data/01_raw/healthcare-dataset-stroke-data.csv\"\n",
    "df = pd.read_csv(input_dataset)"
   ]
  },
  {
   "cell_type": "code",
   "execution_count": 3,
   "id": "4e983f52-7e7d-4dcd-9946-cf86794a992b",
   "metadata": {},
   "outputs": [],
   "source": [
    "## preprocess data\n",
    "mean_val = df['bmi'].mean()\n",
    "df['bmi'].fillna(value=mean_val, inplace=True)\n",
    "\n",
    "columns_to_encode = ['gender', 'work_type', 'ever_married', 'Residence_type', 'smoking_status']\n",
    "ohe = OneHotEncoder(handle_unknown=\"ignore\")\n",
    "for col in columns_to_encode:\n",
    "    unique_vals = df[col].unique()\n",
    "    enc_df = pd.DataFrame(ohe.fit_transform(df[[col]]).toarray())\n",
    "    enc_df.columns = [f'{col}_{i}' for i in range(len(unique_vals))]\n",
    "    df = df.join(enc_df)\n",
    "    df = df.drop([col], axis=1)"
   ]
  },
  {
   "cell_type": "code",
   "execution_count": 4,
   "id": "c5eb4314-9c22-4079-a270-523b4ebb7e73",
   "metadata": {},
   "outputs": [],
   "source": [
    "## split dataset into test and train\n",
    "X = df.drop(columns=['stroke','id'])\n",
    "y = df['stroke']\n",
    "\n",
    "ros = RandomOverSampler(random_state=42)\n",
    "X_os, y_os = ros.fit_resample(X,y)\n",
    "X_train, X_test, y_train, y_test = ms.train_test_split(X_os, y_os, test_size=0.3, random_state=42)"
   ]
  },
  {
   "cell_type": "code",
   "execution_count": 5,
   "id": "7ea5b5ec-4d88-44d4-b897-0cbab85f86f1",
   "metadata": {},
   "outputs": [],
   "source": [
    "## train model\n",
    "lr = linear_model.LinearRegression()\n",
    "lr.fit(X_train, y_train)\n",
    "\n",
    "y_pred_proba = lr.predict(X_test)\n",
    "y_pred = (y_pred_proba >= 0.3).astype(np.float32)"
   ]
  },
  {
   "cell_type": "code",
   "execution_count": 6,
   "id": "7b4a659d-35e1-474b-a919-19f720cdf5f1",
   "metadata": {},
   "outputs": [
    {
     "name": "stdout",
     "output_type": "stream",
     "text": [
      "Accuracy: 0.7363729859444635\n",
      "AUC: 0.8509237408448587\n",
      "Mean squared error: 0.15509371645425327\n",
      "F1 score: 0.7824611032531825\n"
     ]
    }
   ],
   "source": [
    "print(f\"Accuracy: {accuracy_score(y_test, y_pred)}\")\n",
    "print(f\"AUC: {roc_auc_score(y_test, y_pred_proba)}\")\n",
    "print(f\"Mean squared error: {mean_squared_error(y_test, y_pred_proba)}\")\n",
    "print(f\"F1 score: {f1_score(y_test, y_pred)}\")"
   ]
  },
  {
   "cell_type": "code",
   "execution_count": null,
   "id": "1b75a5d4-5f69-4a50-8a3b-78fd31d6140c",
   "metadata": {},
   "outputs": [],
   "source": []
  }
 ],
 "metadata": {
  "kernelspec": {
   "display_name": "Python [conda env:workshop] *",
   "language": "python",
   "name": "conda-env-workshop-py"
  },
  "language_info": {
   "codemirror_mode": {
    "name": "ipython",
    "version": 3
   },
   "file_extension": ".py",
   "mimetype": "text/x-python",
   "name": "python",
   "nbconvert_exporter": "python",
   "pygments_lexer": "ipython3",
   "version": "3.10.9"
  }
 },
 "nbformat": 4,
 "nbformat_minor": 5
}
